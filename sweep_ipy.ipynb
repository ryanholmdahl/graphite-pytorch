{
 "cells": [
  {
   "cell_type": "code",
   "execution_count": 15,
   "metadata": {
    "collapsed": true
   },
   "outputs": [],
   "source": [
    "v_lrs = [0.001]\n",
    "v_gcn_layers = [2]\n",
    "v_autoregressives = [0.5]\n",
    "v_gcn_relus = ['all']\n",
    "v_gcn_batch_norms = [True]\n",
    "v_graphite_layers = [2]\n",
    "v_z_dims = [32]\n",
    "v_use_pos_weights = [False]\n",
    "\n",
    "\n",
    "dataset = 'all_molecules.pkl'\n",
    "num_train_examples = 150000\n",
    "sample_train_randomly = True\n",
    "identity_features = True\n",
    "num_bond_types = 5\n",
    "num_atom_types = 4\n",
    "num_max_nodes = 9\n",
    "\n",
    "model_type = 'multi_gcn_feedback'\n",
    "epochs = 1\n",
    "encode_features = False\n",
    "graphite_relu = True\n",
    "z_agg = 'mean'\n",
    "dropout = 0.\n",
    "load_path = None\n",
    "# load_path = \"images/-all_molecules.pkl-150000-True-True-5-4-9-multi_gcn_feedback-0.001-2000-0.5-False-True-[32, 32]-['mean', 'mean']\" \\\n",
    "#             \"-[True, True]-True-3-32-mean-0.0-100-10-100-False-None-False/model.pt\"\n",
    "\n",
    "num_gen_samples = 100\n",
    "num_gen_conditions = 10\n",
    "num_images_per_condition = 1\n",
    "final_num_gen_samples = 100\n",
    "final_num_gen_conditions = 1000\n",
    "final_num_images_per_condition = 10\n",
    "evals_to_stop = 100\n",
    "eval_only = False"
   ]
  },
  {
   "cell_type": "code",
   "execution_count": 3,
   "metadata": {},
   "outputs": [],
   "source": [
    "from train import read_data, train\n",
    "from itertools import product"
   ]
  },
  {
   "cell_type": "code",
   "execution_count": 5,
   "metadata": {},
   "outputs": [
    {
     "name": "stdout",
     "output_type": "stream",
     "text": [
      "8401\n"
     ]
    }
   ],
   "source": [
    "preprocessed_data, xa_mappings = read_data(dataset, num_train_examples, sample_train_randomly, identity_features, num_bond_types, num_atom_types, num_max_nodes)"
   ]
  },
  {
   "cell_type": "code",
   "execution_count": 16,
   "metadata": {},
   "outputs": [],
   "source": [
    "for lr, gcn_layer, autoregressive, gcn_relu, gcn_batch_norm, graphite_layer, z_dim, use_pos_weight in \\\n",
    "    product(v_lrs, v_gcn_layers, v_autoregressives, v_gcn_relus, v_gcn_batch_norms, v_graphite_layers, v_z_dims, v_use_pos_weights):\n",
    "    gcn_hiddens = []\n",
    "    gcn_aggs = []\n",
    "    gcn_relus = []\n",
    "    for l in range(gcn_layer):\n",
    "        gcn_hiddens.append(z_dim)\n",
    "        gcn_aggs.append('mean')\n",
    "        gcn_relus.append(True if gcn_relu == 'all' or (gcn_relu == 'last' and l == gcn_layer - 1) else False)\n",
    "\n",
    "    train.train(dataset, num_train_examples, sample_train_randomly, identity_features, num_bond_types, num_atom_types,\n",
    "          num_max_nodes, model_type, lr, epochs, autoregressive, encode_features, gcn_batch_norm, gcn_hiddens,\n",
    "          gcn_aggs, gcn_relus, graphite_relu, graphite_layer, z_dim, z_agg, dropout, num_gen_samples,\n",
    "          num_gen_conditions, evals_to_stop, eval_only, load_path, use_pos_weight, preprocessed_data, xa_mappings,\n",
    "          num_images_per_condition, final_num_gen_samples, final_num_gen_conditions, final_num_images_per_condition)"
   ]
  },
  {
   "cell_type": "code",
   "execution_count": 29,
   "metadata": {},
   "outputs": [
    {
     "data": {
      "text/plain": [
       "134016"
      ]
     },
     "execution_count": 29,
     "metadata": {},
     "output_type": "execute_result"
    }
   ],
   "source": [
    "import gc\n",
    "gc.collect()"
   ]
  },
  {
   "cell_type": "code",
   "execution_count": 13,
   "metadata": {},
   "outputs": [
    {
     "data": {
      "text/plain": [
       "<module 'train' from 'C:\\\\Users\\\\Ryan Holmdahl\\\\Documents\\\\GitHub\\\\graphite-pytorch\\\\train.py'>"
      ]
     },
     "execution_count": 13,
     "metadata": {},
     "output_type": "execute_result"
    }
   ],
   "source": [
    "import train\n",
    "from importlib import reload\n",
    "reload(train)"
   ]
  },
  {
   "cell_type": "code",
   "execution_count": 11,
   "metadata": {},
   "outputs": [],
   "source": [
    ""
   ]
  },
  {
   "cell_type": "code",
   "execution_count": null,
   "metadata": {},
   "outputs": [],
   "source": []
  }
 ],
 "metadata": {
  "kernelspec": {
   "display_name": "Python 2",
   "language": "python",
   "name": "python2"
  },
  "language_info": {
   "codemirror_mode": {
    "name": "ipython",
    "version": 2
   },
   "file_extension": ".py",
   "mimetype": "text/x-python",
   "name": "python",
   "nbconvert_exporter": "python",
   "pygments_lexer": "ipython2",
   "version": "2.7.6"
  }
 },
 "nbformat": 4,
 "nbformat_minor": 0
}
